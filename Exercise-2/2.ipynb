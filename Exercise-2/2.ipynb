{
 "cells": [
  {
   "cell_type": "code",
   "execution_count": 5,
   "metadata": {},
   "outputs": [
    {
     "name": "stdout",
     "output_type": "stream",
     "text": [
      "File exists\n",
      "\n"
     ]
    }
   ],
   "source": [
    "import os, os.path\n",
    "if not os.path.isfile('lfw-funneled.tgz'):\n",
    "    !pip install wget #Installation of wget\n",
    "    import wget\n",
    "    print(\"Downloading file...\\n\")\n",
    "    wget.download('http://vis-www.cs.umass.edu/lfw/lfw-funneled.tgz', 'lfw-funneled.tgz')\n",
    "else:\n",
    "    print(\"File exists\\n\")"
   ]
  },
  {
   "cell_type": "code",
   "execution_count": 26,
   "metadata": {},
   "outputs": [
    {
     "data": {
      "text/plain": [
       "['Donald_Rumsfeld',\n",
       " 'George_W_Bush',\n",
       " 'Colin_Powell',\n",
       " 'Hugo_Chavez',\n",
       " 'Ariel_Sharon',\n",
       " 'Gerhard_Schroeder',\n",
       " 'Tony_Blair']"
      ]
     },
     "execution_count": 26,
     "metadata": {},
     "output_type": "execute_result"
    }
   ],
   "source": [
    "DIR = './lfw_funneled'\n",
    "liste = os.listdir(DIR)\n",
    "vips = []\n",
    "for person in liste:\n",
    "    DIR = './lfw_funneled/' + person\n",
    "    if os.path.isdir(DIR):     \n",
    "        newliste = os.listdir(DIR)\n",
    "        if len(newliste) >= 70:\n",
    "            vips.append(person)\n",
    "            \n",
    "vips"
   ]
  },
  {
   "cell_type": "code",
   "execution_count": null,
   "metadata": {},
   "outputs": [],
   "source": []
  }
 ],
 "metadata": {
  "kernelspec": {
   "display_name": "Python 3",
   "language": "python",
   "name": "python3"
  },
  "language_info": {
   "codemirror_mode": {
    "name": "ipython",
    "version": 3
   },
   "file_extension": ".py",
   "mimetype": "text/x-python",
   "name": "python",
   "nbconvert_exporter": "python",
   "pygments_lexer": "ipython3",
   "version": "3.7.3"
  }
 },
 "nbformat": 4,
 "nbformat_minor": 2
}
