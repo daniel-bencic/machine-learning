{
 "cells": [
  {
   "cell_type": "code",
   "execution_count": 5,
   "metadata": {},
   "outputs": [],
   "source": [
    "%matplotlib inline\n",
    "import sys, os\n",
    "import pandas as pd\n",
    "import numpy as np\n",
    "import matplotlib.pyplot as plt\n",
    "sys.path.insert(1, os.path.join(sys.path[0], '..'))\n",
    "from lib.pca import calc_pca\n",
    "\n",
    "url = \"https://archive.ics.uci.edu/ml/machine-learning-databases/housing/housing.data\"\n",
    "cols = [ \"CRIM\" , \"ZN\", \"INDUS\", \"CHAS\", \"NOX\", \"RM\", \"AGE\", \"DIS\", \"RAD\", \"TAX\", \"PTRATIO\", \"B\", \"LSTAT\", \"TGT\"]\n",
    "boston = pd.read_csv(url, sep = ' ', skipinitialspace = True, header = None, names = cols, index_col = False)\n",
    "\n",
    "u, s, vh = calc_pca(boston)"
   ]
  },
  {
   "cell_type": "markdown",
   "metadata": {},
   "source": [
    "### Singular values:"
   ]
  },
  {
   "cell_type": "code",
   "execution_count": 6,
   "metadata": {},
   "outputs": [
    {
     "data": {
      "text/plain": [
       "array([57.49543232, 28.8619752 , 26.09976038, 21.15898471, 20.72930816,\n",
       "       18.25665469, 16.44331032, 14.26722377, 11.83292482, 11.28671816,\n",
       "       10.36624696,  9.61294373,  8.22647535,  5.51950744])"
      ]
     },
     "execution_count": 6,
     "metadata": {},
     "output_type": "execute_result"
    }
   ],
   "source": [
    "s"
   ]
  },
  {
   "cell_type": "markdown",
   "metadata": {},
   "source": [
    "### Eigenvalues:\n",
    "(https://stats.stackexchange.com/questions/134282/relationship-between-svd-and-pca-how-to-use-svd-to-perform-pca)"
   ]
  },
  {
   "cell_type": "code",
   "execution_count": 7,
   "metadata": {},
   "outputs": [
    {
     "data": {
      "text/plain": [
       "array([6.54598958, 1.64953191, 1.34890592, 0.88653987, 0.85089944,\n",
       "       0.66001077, 0.5354108 , 0.40307658, 0.27726358, 0.25225744,\n",
       "       0.21279025, 0.1829875 , 0.1340097 , 0.06032666])"
      ]
     },
     "execution_count": 7,
     "metadata": {},
     "output_type": "execute_result"
    }
   ],
   "source": [
    "ev_tmp = []\n",
    "for val in s:\n",
    "    ev_tmp.append((val * val) / (boston.shape[0] - 1))\n",
    "    \n",
    "ev = np.array(ev_tmp)\n",
    "ev"
   ]
  },
  {
   "cell_type": "markdown",
   "metadata": {},
   "source": [
    "### Percentage of variance covered by each component: "
   ]
  },
  {
   "cell_type": "code",
   "execution_count": 8,
   "metadata": {},
   "outputs": [
    {
     "data": {
      "text/plain": [
       "array([0.46757068, 0.11782371, 0.09635042, 0.06332428, 0.06077853,\n",
       "       0.04714363, 0.03824363, 0.02879118, 0.01980454, 0.01801839,\n",
       "       0.0151993 , 0.01307054, 0.00957212, 0.00430905])"
      ]
     },
     "execution_count": 8,
     "metadata": {},
     "output_type": "execute_result"
    }
   ],
   "source": [
    "var_sum = np.sum(ev)\n",
    "perc_tmp = []\n",
    "for val in ev:\n",
    "    perc_tmp.append(val / var_sum)\n",
    "    \n",
    "perc = np.array(perc_tmp)\n",
    "perc"
   ]
  },
  {
   "cell_type": "markdown",
   "metadata": {},
   "source": [
    "### Cumulative sum of variance covered:"
   ]
  },
  {
   "cell_type": "code",
   "execution_count": 9,
   "metadata": {},
   "outputs": [
    {
     "data": {
      "text/plain": [
       "array([0.46757068, 0.58539439, 0.68174481, 0.74506909, 0.80584762,\n",
       "       0.85299125, 0.89123488, 0.92002606, 0.9398306 , 0.95784899,\n",
       "       0.9730483 , 0.98611883, 0.99569095, 1.        ])"
      ]
     },
     "execution_count": 9,
     "metadata": {},
     "output_type": "execute_result"
    }
   ],
   "source": [
    "cum_perc = np.cumsum(perc)\n",
    "cum_perc"
   ]
  },
  {
   "cell_type": "markdown",
   "metadata": {},
   "source": [
    "### Overview:"
   ]
  },
  {
   "cell_type": "code",
   "execution_count": 10,
   "metadata": {},
   "outputs": [
    {
     "data": {
      "text/html": [
       "<div>\n",
       "<style scoped>\n",
       "    .dataframe tbody tr th:only-of-type {\n",
       "        vertical-align: middle;\n",
       "    }\n",
       "\n",
       "    .dataframe tbody tr th {\n",
       "        vertical-align: top;\n",
       "    }\n",
       "\n",
       "    .dataframe thead th {\n",
       "        text-align: right;\n",
       "    }\n",
       "</style>\n",
       "<table border=\"1\" class=\"dataframe\">\n",
       "  <thead>\n",
       "    <tr style=\"text-align: right;\">\n",
       "      <th></th>\n",
       "      <th>Eigenvalue</th>\n",
       "      <th>Percentage</th>\n",
       "      <th>Cumulative Percentage</th>\n",
       "    </tr>\n",
       "  </thead>\n",
       "  <tbody>\n",
       "    <tr>\n",
       "      <td>0</td>\n",
       "      <td>6.545990</td>\n",
       "      <td>0.467571</td>\n",
       "      <td>0.467571</td>\n",
       "    </tr>\n",
       "    <tr>\n",
       "      <td>1</td>\n",
       "      <td>1.649532</td>\n",
       "      <td>0.117824</td>\n",
       "      <td>0.585394</td>\n",
       "    </tr>\n",
       "    <tr>\n",
       "      <td>2</td>\n",
       "      <td>1.348906</td>\n",
       "      <td>0.096350</td>\n",
       "      <td>0.681745</td>\n",
       "    </tr>\n",
       "    <tr>\n",
       "      <td>3</td>\n",
       "      <td>0.886540</td>\n",
       "      <td>0.063324</td>\n",
       "      <td>0.745069</td>\n",
       "    </tr>\n",
       "    <tr>\n",
       "      <td>4</td>\n",
       "      <td>0.850899</td>\n",
       "      <td>0.060779</td>\n",
       "      <td>0.805848</td>\n",
       "    </tr>\n",
       "    <tr>\n",
       "      <td>5</td>\n",
       "      <td>0.660011</td>\n",
       "      <td>0.047144</td>\n",
       "      <td>0.852991</td>\n",
       "    </tr>\n",
       "    <tr>\n",
       "      <td>6</td>\n",
       "      <td>0.535411</td>\n",
       "      <td>0.038244</td>\n",
       "      <td>0.891235</td>\n",
       "    </tr>\n",
       "    <tr>\n",
       "      <td>7</td>\n",
       "      <td>0.403077</td>\n",
       "      <td>0.028791</td>\n",
       "      <td>0.920026</td>\n",
       "    </tr>\n",
       "    <tr>\n",
       "      <td>8</td>\n",
       "      <td>0.277264</td>\n",
       "      <td>0.019805</td>\n",
       "      <td>0.939831</td>\n",
       "    </tr>\n",
       "    <tr>\n",
       "      <td>9</td>\n",
       "      <td>0.252257</td>\n",
       "      <td>0.018018</td>\n",
       "      <td>0.957849</td>\n",
       "    </tr>\n",
       "    <tr>\n",
       "      <td>10</td>\n",
       "      <td>0.212790</td>\n",
       "      <td>0.015199</td>\n",
       "      <td>0.973048</td>\n",
       "    </tr>\n",
       "    <tr>\n",
       "      <td>11</td>\n",
       "      <td>0.182987</td>\n",
       "      <td>0.013071</td>\n",
       "      <td>0.986119</td>\n",
       "    </tr>\n",
       "    <tr>\n",
       "      <td>12</td>\n",
       "      <td>0.134010</td>\n",
       "      <td>0.009572</td>\n",
       "      <td>0.995691</td>\n",
       "    </tr>\n",
       "    <tr>\n",
       "      <td>13</td>\n",
       "      <td>0.060327</td>\n",
       "      <td>0.004309</td>\n",
       "      <td>1.000000</td>\n",
       "    </tr>\n",
       "  </tbody>\n",
       "</table>\n",
       "</div>"
      ],
      "text/plain": [
       "    Eigenvalue  Percentage  Cumulative Percentage\n",
       "0     6.545990    0.467571               0.467571\n",
       "1     1.649532    0.117824               0.585394\n",
       "2     1.348906    0.096350               0.681745\n",
       "3     0.886540    0.063324               0.745069\n",
       "4     0.850899    0.060779               0.805848\n",
       "5     0.660011    0.047144               0.852991\n",
       "6     0.535411    0.038244               0.891235\n",
       "7     0.403077    0.028791               0.920026\n",
       "8     0.277264    0.019805               0.939831\n",
       "9     0.252257    0.018018               0.957849\n",
       "10    0.212790    0.015199               0.973048\n",
       "11    0.182987    0.013071               0.986119\n",
       "12    0.134010    0.009572               0.995691\n",
       "13    0.060327    0.004309               1.000000"
      ]
     },
     "execution_count": 10,
     "metadata": {},
     "output_type": "execute_result"
    }
   ],
   "source": [
    "ovw = np.stack((ev, perc, cum_perc), axis=1)\n",
    "pd.DataFrame(ovw, columns=[\"Eigenvalue\", \"Percentage\", \"Cumulative Percentage\"])"
   ]
  },
  {
   "cell_type": "markdown",
   "metadata": {},
   "source": [
    "### Correlation of projections to first 3 PCs:"
   ]
  },
  {
   "cell_type": "code",
   "execution_count": 11,
   "metadata": {},
   "outputs": [
    {
     "data": {
      "text/plain": [
       "(506, 14)"
      ]
     },
     "execution_count": 11,
     "metadata": {},
     "output_type": "execute_result"
    }
   ],
   "source": [
    "s_diag = np.diag(s)\n",
    "us = u @ s_diag\n",
    "us.shape"
   ]
  },
  {
   "cell_type": "code",
   "execution_count": 12,
   "metadata": {},
   "outputs": [
    {
     "data": {
      "text/html": [
       "<div>\n",
       "<style scoped>\n",
       "    .dataframe tbody tr th:only-of-type {\n",
       "        vertical-align: middle;\n",
       "    }\n",
       "\n",
       "    .dataframe tbody tr th {\n",
       "        vertical-align: top;\n",
       "    }\n",
       "\n",
       "    .dataframe thead th {\n",
       "        text-align: right;\n",
       "    }\n",
       "</style>\n",
       "<table border=\"1\" class=\"dataframe\">\n",
       "  <thead>\n",
       "    <tr style=\"text-align: right;\">\n",
       "      <th></th>\n",
       "      <th>Variable</th>\n",
       "      <th>PC1</th>\n",
       "      <th>PC2</th>\n",
       "      <th>PC3</th>\n",
       "    </tr>\n",
       "  </thead>\n",
       "  <tbody>\n",
       "    <tr>\n",
       "      <td>0</td>\n",
       "      <td>CRIM</td>\n",
       "      <td>0.619888</td>\n",
       "      <td>-0.084604</td>\n",
       "      <td>0.458852</td>\n",
       "    </tr>\n",
       "    <tr>\n",
       "      <td>1</td>\n",
       "      <td>ZN</td>\n",
       "      <td>-0.627949</td>\n",
       "      <td>-0.190086</td>\n",
       "      <td>0.458235</td>\n",
       "    </tr>\n",
       "    <tr>\n",
       "      <td>2</td>\n",
       "      <td>INDUS</td>\n",
       "      <td>0.849068</td>\n",
       "      <td>0.163208</td>\n",
       "      <td>-0.076749</td>\n",
       "    </tr>\n",
       "    <tr>\n",
       "      <td>3</td>\n",
       "      <td>CHAS</td>\n",
       "      <td>-0.012862</td>\n",
       "      <td>0.527439</td>\n",
       "      <td>-0.145533</td>\n",
       "    </tr>\n",
       "    <tr>\n",
       "      <td>4</td>\n",
       "      <td>NOX</td>\n",
       "      <td>0.832013</td>\n",
       "      <td>0.326578</td>\n",
       "      <td>-0.053978</td>\n",
       "    </tr>\n",
       "    <tr>\n",
       "      <td>5</td>\n",
       "      <td>RM</td>\n",
       "      <td>-0.518909</td>\n",
       "      <td>0.557411</td>\n",
       "      <td>0.410454</td>\n",
       "    </tr>\n",
       "    <tr>\n",
       "      <td>6</td>\n",
       "      <td>AGE</td>\n",
       "      <td>0.759818</td>\n",
       "      <td>0.334318</td>\n",
       "      <td>-0.233241</td>\n",
       "    </tr>\n",
       "    <tr>\n",
       "      <td>7</td>\n",
       "      <td>DIS</td>\n",
       "      <td>-0.762871</td>\n",
       "      <td>-0.461271</td>\n",
       "      <td>0.182423</td>\n",
       "    </tr>\n",
       "    <tr>\n",
       "      <td>8</td>\n",
       "      <td>RAD</td>\n",
       "      <td>0.776286</td>\n",
       "      <td>0.040007</td>\n",
       "      <td>0.486068</td>\n",
       "    </tr>\n",
       "    <tr>\n",
       "      <td>9</td>\n",
       "      <td>TAX</td>\n",
       "      <td>0.829043</td>\n",
       "      <td>0.011368</td>\n",
       "      <td>0.398638</td>\n",
       "    </tr>\n",
       "    <tr>\n",
       "      <td>10</td>\n",
       "      <td>PTRATIO</td>\n",
       "      <td>0.531351</td>\n",
       "      <td>-0.404083</td>\n",
       "      <td>0.000464</td>\n",
       "    </tr>\n",
       "    <tr>\n",
       "      <td>11</td>\n",
       "      <td>B</td>\n",
       "      <td>-0.503102</td>\n",
       "      <td>0.034011</td>\n",
       "      <td>-0.419711</td>\n",
       "    </tr>\n",
       "    <tr>\n",
       "      <td>12</td>\n",
       "      <td>LSTAT</td>\n",
       "      <td>0.796716</td>\n",
       "      <td>-0.258467</td>\n",
       "      <td>-0.187059</td>\n",
       "    </tr>\n",
       "    <tr>\n",
       "      <td>13</td>\n",
       "      <td>TGT</td>\n",
       "      <td>-0.682193</td>\n",
       "      <td>0.571435</td>\n",
       "      <td>0.189531</td>\n",
       "    </tr>\n",
       "  </tbody>\n",
       "</table>\n",
       "</div>"
      ],
      "text/plain": [
       "   Variable       PC1       PC2       PC3\n",
       "0      CRIM  0.619888 -0.084604  0.458852\n",
       "1        ZN -0.627949 -0.190086  0.458235\n",
       "2     INDUS  0.849068  0.163208 -0.076749\n",
       "3      CHAS -0.012862  0.527439 -0.145533\n",
       "4       NOX  0.832013  0.326578 -0.053978\n",
       "5        RM -0.518909  0.557411  0.410454\n",
       "6       AGE  0.759818  0.334318 -0.233241\n",
       "7       DIS -0.762871 -0.461271  0.182423\n",
       "8       RAD  0.776286  0.040007  0.486068\n",
       "9       TAX  0.829043  0.011368  0.398638\n",
       "10  PTRATIO  0.531351 -0.404083  0.000464\n",
       "11        B -0.503102  0.034011 -0.419711\n",
       "12    LSTAT  0.796716 -0.258467 -0.187059\n",
       "13      TGT -0.682193  0.571435  0.189531"
      ]
     },
     "execution_count": 12,
     "metadata": {},
     "output_type": "execute_result"
    }
   ],
   "source": [
    "corrs = []\n",
    "for col in boston:\n",
    "    corrs_tmp = [col]\n",
    "    for x in range(3):\n",
    "        corrs_tmp.append(np.corrcoef(boston[col].to_numpy(), us[:,x])[0,1])\n",
    "    corrs.append(corrs_tmp)\n",
    "\n",
    "pd.DataFrame(corrs, columns=[\"Variable\", \"PC1\", \"PC2\", \"PC3\"])"
   ]
  },
  {
   "cell_type": "markdown",
   "metadata": {},
   "source": [
    "### Plotting first and second variable:"
   ]
  },
  {
   "cell_type": "code",
   "execution_count": 13,
   "metadata": {
    "collapsed": true
   },
   "outputs": [],
   "source": [
    "med = boston[\"TGT\"].median()\n",
    "c = []\n",
    "for row in boston[\"TGT\"]:\n",
    "    if row == med:\n",
    "        c.append(1)\n",
    "    elif row > med:\n",
    "        c.append(2)\n",
    "    else:\n",
    "        c.append(0)\n",
    "        \n",
    "scatter_data = np.stack((us[:,0], us[:,1], c), axis=1)"
   ]
  },
  {
   "cell_type": "code",
   "execution_count": 14,
   "metadata": {},
   "outputs": [
    {
     "data": {
      "text/plain": [
       "<matplotlib.axes._subplots.AxesSubplot at 0x7f88af9dd668>"
      ]
     },
     "execution_count": 14,
     "metadata": {},
     "output_type": "execute_result"
    },
    {
     "data": {
      "image/png": "[encoded data removed]",
      "text/plain": [
       "<Figure size 432x288 with 2 Axes>"
      ]
     },
     "metadata": {},
     "output_type": "display_data"
    }
   ],
   "source": [
    "df = pd.DataFrame(scatter_data, columns=[\"Variable 1\", \"Variable 2\", \"TGT\"])\n",
    "df.plot.scatter(x=\"Variable 1\", y=\"Variable 2\", c=\"TGT\", colormap=\"viridis\")"
   ]
  },
  {
   "cell_type": "markdown",
   "metadata": {},
   "source": [
    "The two variables can be used to predict the target price. We can see two clusters of data, which can be seperated by a line. However the clusters are not strictly seperated so there will be an error in the prediction."
   ]
  }
 ],
 "metadata": {
  "kernelspec": {
   "display_name": "Python 3",
   "language": "python",
   "name": "python3"
  },
  "language_info": {
   "codemirror_mode": {
    "name": "ipython",
    "version": 3
   },
   "file_extension": ".py",
   "mimetype": "text/x-python",
   "name": "python",
   "nbconvert_exporter": "python",
   "pygments_lexer": "ipython3",
   "version": "3.6.9"
  }
 },
 "nbformat": 4,
 "nbformat_minor": 2
}
