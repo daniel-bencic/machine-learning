{
 "cells": [
  {
   "cell_type": "code",
   "execution_count": 56,
   "metadata": {
    "collapsed": true
   },
   "outputs": [],
   "source": [
    "%matplotlib inline\n",
    "import numpy as np\n",
    "import math\n",
    "from sklearn.model_selection import ShuffleSplit\n",
    "from sklearn.model_selection import cross_val_score\n",
    "from sklearn.model_selection import GridSearchCV\n",
    "from sklearn import datasets\n",
    "from sklearn import svm\n",
    "import matplotlib.pyplot as plt"
   ]
  },
  {
   "cell_type": "markdown",
   "metadata": {},
   "source": [
    "### a."
   ]
  },
  {
   "cell_type": "code",
   "execution_count": 3,
   "metadata": {},
   "outputs": [
    {
     "name": "stdout",
     "output_type": "stream",
     "text": [
      "Accuracy (training): 0.9977728285077951\n",
      "Accuracy (test): 0.9888888888888889\n",
      "Accuracy (training): 0.9985152190051967\n",
      "Accuracy (test): 0.9977777777777778\n",
      "Accuracy (training): 0.9977728285077951\n",
      "Accuracy (test): 0.9911111111111112\n"
     ]
    }
   ],
   "source": [
    "digits = datasets.load_digits()\n",
    "rs = ShuffleSplit(3, 0.25)\n",
    "for train, test in rs.split(digits.data):\n",
    "    clf = svm.SVC(gamma=0.001, C=1.0)\n",
    "    clf.fit(digits.data[train], digits.target[train])\n",
    "    print(\"Accuracy (training): \" + str(clf.score(digits.data[train], digits.target[train])))\n",
    "    print(\"Accuracy (test): \" + str(clf.score(digits.data[test], digits.target[test])))"
   ]
  },
  {
   "cell_type": "markdown",
   "metadata": {},
   "source": [
    "### b."
   ]
  },
  {
   "cell_type": "code",
   "execution_count": 4,
   "metadata": {},
   "outputs": [
    {
     "data": {
      "text/plain": [
       "array([0.99555556, 0.98888889, 1.        , 0.98888889, 0.98222222,\n",
       "       0.99111111, 0.98666667, 0.99555556, 0.99777778, 0.99111111])"
      ]
     },
     "execution_count": 4,
     "metadata": {},
     "output_type": "execute_result"
    }
   ],
   "source": [
    "rs = ShuffleSplit(10, 0.25)\n",
    "crossval= cross_val_score(svm.SVC(gamma=0.001, C=1.0), digits.data, digits.target, cv=rs)\n",
    "crossval"
   ]
  },
  {
   "cell_type": "code",
   "execution_count": 5,
   "metadata": {},
   "outputs": [
    {
     "data": {
      "text/plain": [
       "0.9917777777777779"
      ]
     },
     "execution_count": 5,
     "metadata": {},
     "output_type": "execute_result"
    }
   ],
   "source": [
    "np.mean(crossval)"
   ]
  },
  {
   "cell_type": "code",
   "execution_count": 6,
   "metadata": {},
   "outputs": [
    {
     "data": {
      "text/plain": [
       "0.001634504493194066"
      ]
     },
     "execution_count": 6,
     "metadata": {},
     "output_type": "execute_result"
    }
   ],
   "source": [
    "np.std(crossval) / math.sqrt(crossval.shape[0])"
   ]
  },
  {
   "cell_type": "markdown",
   "metadata": {},
   "source": [
    "### c."
   ]
  },
  {
   "cell_type": "code",
   "execution_count": 52,
   "metadata": {},
   "outputs": [
    {
     "data": {
      "image/png": "[encoded data removed]",
      "text/plain": [
       "<Figure size 432x288 with 1 Axes>"
      ]
     },
     "metadata": {},
     "output_type": "display_data"
    }
   ],
   "source": [
    "gammas = np.logspace(-7, -1, 10)\n",
    "rs = ShuffleSplit(5, 500, 500)\n",
    "plt.xscale('log')\n",
    "for train, test in rs.split(digits.data):\n",
    "    tra_vals = []\n",
    "    tst_vals = []\n",
    "    for g in gammas:\n",
    "        clf = svm.SVC(gamma=g, C=10)\n",
    "        clf.fit(digits.data[train], digits.target[train])\n",
    "        tra_vals.append(clf.score(digits.data[train], digits.target[train]))\n",
    "        tst_vals.append(clf.score(digits.data[test], digits.target[test]))\n",
    "    plt.plot(gammas, tra_vals, color='blue')\n",
    "    plt.plot(gammas, tst_vals, color='green')"
   ]
  },
  {
   "cell_type": "markdown",
   "metadata": {},
   "source": [
    "< 2.15443469e-06 -> underfitting <br>\n",
    "\\> 4.64158883e-03 -> overfitting <br>\n",
    "= 1.00000000e-03 -> optimal"
   ]
  },
  {
   "cell_type": "markdown",
   "metadata": {},
   "source": [
    "### d."
   ]
  },
  {
   "cell_type": "code",
   "execution_count": 64,
   "metadata": {},
   "outputs": [
    {
     "name": "stderr",
     "output_type": "stream",
     "text": [
      "/home/me/.local/lib64/python3.6/site-packages/sklearn/model_selection/_search.py:814: DeprecationWarning: The default of the `iid` parameter will change from True to False in version 0.22 and will be removed in 0.24. This will change numeric results when test-set sizes are unequal.\n",
      "  DeprecationWarning)\n"
     ]
    },
    {
     "data": {
      "text/plain": [
       "{'mean_fit_time': array([0.01633215, 0.01527754, 0.01668978, 0.01854499, 0.01831683,\n",
       "        0.00885908, 0.01205079, 0.01842284, 0.01994491, 0.01965896,\n",
       "        0.00607975, 0.01228118, 0.01816424, 0.02058053, 0.01959395,\n",
       "        0.00581423, 0.01200008, 0.01886113, 0.02061637, 0.01957393]),\n",
       " 'mean_score_time': array([0.00446105, 0.00457358, 0.00437856, 0.0042971 , 0.00453742,\n",
       "        0.0037787 , 0.00334501, 0.00432523, 0.00437355, 0.00486199,\n",
       "        0.002853  , 0.00331624, 0.00435368, 0.00437172, 0.00455483,\n",
       "        0.00270454, 0.00326626, 0.00450516, 0.0043246 , 0.00452741]),\n",
       " 'mean_test_score': array([0.31 , 0.854, 0.128, 0.106, 0.138, 0.89 , 0.92 , 0.61 , 0.106,\n",
       "        0.138, 0.922, 0.924, 0.634, 0.106, 0.138, 0.928, 0.924, 0.634,\n",
       "        0.106, 0.138]),\n",
       " 'param_C': masked_array(data=[0.1, 0.1, 0.1, 0.1, 0.1, 1.0, 1.0, 1.0, 1.0, 1.0, 10.0,\n",
       "                    10.0, 10.0, 10.0, 10.0, 100.0, 100.0, 100.0, 100.0,\n",
       "                    100.0],\n",
       "              mask=[False, False, False, False, False, False, False, False,\n",
       "                    False, False, False, False, False, False, False, False,\n",
       "                    False, False, False, False],\n",
       "        fill_value='?',\n",
       "             dtype=object),\n",
       " 'param_gamma': masked_array(data=[0.0001, 0.001, 0.01, 0.1, 1.0, 0.0001, 0.001, 0.01,\n",
       "                    0.1, 1.0, 0.0001, 0.001, 0.01, 0.1, 1.0, 0.0001, 0.001,\n",
       "                    0.01, 0.1, 1.0],\n",
       "              mask=[False, False, False, False, False, False, False, False,\n",
       "                    False, False, False, False, False, False, False, False,\n",
       "                    False, False, False, False],\n",
       "        fill_value='?',\n",
       "             dtype=object),\n",
       " 'params': [{'C': 0.1, 'gamma': 0.0001},\n",
       "  {'C': 0.1, 'gamma': 0.001},\n",
       "  {'C': 0.1, 'gamma': 0.01},\n",
       "  {'C': 0.1, 'gamma': 0.1},\n",
       "  {'C': 0.1, 'gamma': 1.0},\n",
       "  {'C': 1.0, 'gamma': 0.0001},\n",
       "  {'C': 1.0, 'gamma': 0.001},\n",
       "  {'C': 1.0, 'gamma': 0.01},\n",
       "  {'C': 1.0, 'gamma': 0.1},\n",
       "  {'C': 1.0, 'gamma': 1.0},\n",
       "  {'C': 10.0, 'gamma': 0.0001},\n",
       "  {'C': 10.0, 'gamma': 0.001},\n",
       "  {'C': 10.0, 'gamma': 0.01},\n",
       "  {'C': 10.0, 'gamma': 0.1},\n",
       "  {'C': 10.0, 'gamma': 1.0},\n",
       "  {'C': 100.0, 'gamma': 0.0001},\n",
       "  {'C': 100.0, 'gamma': 0.001},\n",
       "  {'C': 100.0, 'gamma': 0.01},\n",
       "  {'C': 100.0, 'gamma': 0.1},\n",
       "  {'C': 100.0, 'gamma': 1.0}],\n",
       " 'rank_test_score': array([11,  7, 16, 17, 12,  6,  5, 10, 17, 12,  4,  2,  8, 17, 12,  1,  2,\n",
       "         8, 17, 12], dtype=int32),\n",
       " 'split0_test_score': array([0.25882353, 0.81764706, 0.10588235, 0.10588235, 0.10588235,\n",
       "        0.88823529, 0.91764706, 0.58235294, 0.10588235, 0.10588235,\n",
       "        0.91764706, 0.92352941, 0.61176471, 0.10588235, 0.10588235,\n",
       "        0.92352941, 0.92352941, 0.61176471, 0.10588235, 0.10588235]),\n",
       " 'split1_test_score': array([0.36526946, 0.90419162, 0.17365269, 0.10778443, 0.20359281,\n",
       "        0.95209581, 0.99401198, 0.74850299, 0.10778443, 0.20359281,\n",
       "        0.98802395, 0.99401198, 0.75449102, 0.10778443, 0.20359281,\n",
       "        0.98802395, 0.99401198, 0.75449102, 0.10778443, 0.20359281]),\n",
       " 'split2_test_score': array([0.30674847, 0.8404908 , 0.10429448, 0.10429448, 0.10429448,\n",
       "        0.82822086, 0.84662577, 0.49693252, 0.10429448, 0.10429448,\n",
       "        0.85889571, 0.85276074, 0.53374233, 0.10429448, 0.10429448,\n",
       "        0.87116564, 0.85276074, 0.53374233, 0.10429448, 0.10429448]),\n",
       " 'std_fit_time': array([9.39964051e-05, 2.21272509e-04, 1.47382542e-04, 3.28911793e-04,\n",
       "        3.38168290e-04, 2.58104627e-04, 5.94704845e-04, 2.09562201e-04,\n",
       "        3.82137757e-04, 7.43942897e-04, 1.94299424e-04, 5.16085235e-04,\n",
       "        3.12930316e-04, 3.84586437e-04, 3.97833436e-04, 2.43328117e-04,\n",
       "        5.17376264e-04, 3.33638632e-04, 3.39237905e-04, 4.05004235e-04]),\n",
       " 'std_score_time': array([1.76465293e-04, 4.00709267e-04, 8.43213408e-05, 2.83336071e-05,\n",
       "        2.67923744e-05, 9.44187744e-05, 2.46994514e-04, 4.20907653e-05,\n",
       "        8.26594154e-06, 8.36583884e-05, 4.29776998e-05, 2.03349509e-04,\n",
       "        6.90413808e-05, 9.75716363e-05, 4.15251586e-05, 6.08649007e-05,\n",
       "        1.60512828e-04, 1.01267198e-04, 4.88086306e-05, 7.37286300e-05]),\n",
       " 'std_test_score': array([0.04375147, 0.03674546, 0.03233625, 0.00142003, 0.04645523,\n",
       "        0.05033049, 0.05988798, 0.10408986, 0.00142003, 0.04645523,\n",
       "        0.05254126, 0.0573733 , 0.09107119, 0.00142003, 0.04645523,\n",
       "        0.04757292, 0.0573733 , 0.09107119, 0.00142003, 0.04645523])}"
      ]
     },
     "execution_count": 64,
     "metadata": {},
     "output_type": "execute_result"
    }
   ],
   "source": [
    "svc_params = { 'C': np.logspace(-1, 2, 4), 'gamma': np.logspace(-4, 0, 5) }\n",
    "clf = GridSearchCV(svm.SVC(), svc_params, cv=3)\n",
    "clf.fit(digits.data[:500], digits.target[:500])\n",
    "clf.cv_results_"
   ]
  },
  {
   "cell_type": "code",
   "execution_count": 65,
   "metadata": {},
   "outputs": [
    {
     "data": {
      "text/plain": [
       "0.9414032382420972"
      ]
     },
     "execution_count": 65,
     "metadata": {},
     "output_type": "execute_result"
    }
   ],
   "source": [
    "clf.score(digits.data[500:], digits.target[500:])"
   ]
  }
 ],
 "metadata": {
  "kernelspec": {
   "display_name": "Python 3",
   "language": "python",
   "name": "python3"
  },
  "language_info": {
   "codemirror_mode": {
    "name": "ipython",
    "version": 3
   },
   "file_extension": ".py",
   "mimetype": "text/x-python",
   "name": "python",
   "nbconvert_exporter": "python",
   "pygments_lexer": "ipython3",
   "version": "3.6.9"
  }
 },
 "nbformat": 4,
 "nbformat_minor": 2
}
