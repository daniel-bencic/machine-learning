{
 "cells": [
  {
   "cell_type": "code",
   "execution_count": 2,
   "metadata": {},
   "outputs": [
    {
     "name": "stdout",
     "output_type": "stream",
     "text": [
      "Donald_Rumsfeld: 120 (images)\n",
      "Colin_Powell: 235 (images)\n",
      "Gerhard_Schroeder: 108 (images)\n",
      "George_W_Bush: 529 (images)\n",
      "Hugo_Chavez: 70 (images)\n",
      "Ariel_Sharon: 76 (images)\n",
      "Tony_Blair: 143 (images)\n"
     ]
    }
   ],
   "source": [
    "%matplotlib inline\n",
    "import sys, os\n",
    "import numpy as np\n",
    "import pandas as pd\n",
    "import skimage.io as sio\n",
    "import skimage.transform as strans\n",
    "import matplotlib.pyplot as plt\n",
    "sys.path.insert(1, os.path.join(sys.path[0], '..'))\n",
    "import lib.pca as pca\n",
    "import lib.util as util\n",
    "\n",
    "base = os.path.join(os.getcwd(), \"../Exercise-2/data\")\n",
    "dirs = os.listdir(base)\n",
    "paths, names = util.get_people(base, dirs)\n",
    "imgs, t_imgs = util.load_images(paths)\n",
    "for i, p in enumerate(imgs):\n",
    "    print(names[i] + \": \" + str(len(p)) + \" (images)\")\n",
    "    \n",
    "all_imgs = []\n",
    "for i, p in enumerate(imgs):\n",
    "    lbl = 1 if i == 3 else -1\n",
    "    for j in p:\n",
    "        all_imgs.append(np.append(util.stack_image(j), lbl))\n",
    "    all_imgs.append(np.append(util.stack_image(t_imgs[i]), lbl))\n",
    "\n",
    "all_imgs = np.random.permutation(all_imgs)\n",
    "    \n",
    "data = []\n",
    "labels = []\n",
    "for img in all_imgs:\n",
    "    labels.append(img[-1])\n",
    "    data.append(img[:-1])\n",
    "    \n",
    "data = np.array(data)"
   ]
  },
  {
   "cell_type": "code",
   "execution_count": 9,
   "metadata": {},
   "outputs": [
    {
     "name": "stdout",
     "output_type": "stream",
     "text": [
      "(772, 7)\n",
      "(516, 7)\n"
     ]
    }
   ],
   "source": [
    "cut = int(data.shape[0]  * 0.6)\n",
    "train = data[:cut]\n",
    "test = data [cut:]\n",
    "u, s, vh = pca.calc_pca(pd.DataFrame(train))\n",
    "\n",
    "s_diag = np.diag(s)\n",
    "us = u @ s_diag\n",
    "proj_train = us[:,:7]\n",
    "proj_test = (test @ vh.T)[:,:7]\n",
    "print(proj_train.shape)\n",
    "print(proj_test.shape)"
   ]
  },
  {
   "cell_type": "code",
   "execution_count": 8,
   "metadata": {},
   "outputs": [
    {
     "data": {
      "text/plain": [
       "1.0"
      ]
     },
     "execution_count": 8,
     "metadata": {},
     "output_type": "execute_result"
    }
   ],
   "source": [
    "rel_class = [np.count_nonzero(np.array(labels) > 0) / len(labels), np.count_nonzero(np.array(labels) < 0) / len(labels)]\n",
    "rel_class[0] +  rel_class[1]"
   ]
  },
  {
   "cell_type": "code",
   "execution_count": null,
   "metadata": {
    "collapsed": true
   },
   "outputs": [],
   "source": []
  }
 ],
 "metadata": {
  "kernelspec": {
   "display_name": "Python 3",
   "language": "python",
   "name": "python3"
  },
  "language_info": {
   "codemirror_mode": {
    "name": "ipython",
    "version": 3
   },
   "file_extension": ".py",
   "mimetype": "text/x-python",
   "name": "python",
   "nbconvert_exporter": "python",
   "pygments_lexer": "ipython3",
   "version": "3.6.9"
  }
 },
 "nbformat": 4,
 "nbformat_minor": 2
}
